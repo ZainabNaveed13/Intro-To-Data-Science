{
 "cells": [
  {
   "cell_type": "code",
   "execution_count": 15,
   "id": "fdaf1feb-db7e-4d36-a407-96f0a75317c1",
   "metadata": {},
   "outputs": [
    {
     "name": "stdout",
     "output_type": "stream",
     "text": [
      "[ 1  4  2 12 13 27 87 34 54  1  3 90 17 12  5  0  0  0  0  0]\n"
     ]
    }
   ],
   "source": [
    "import numpy as np\n",
    "l1 = [1,4,2,12,13,27,87,34,54,1,3,90,17,12,5,10,55,7,19,20]\n",
    "arr1 = np.array(l1,dtype=np.int64)\n",
    "arr2 = arr1.reshape(4,5)\n",
    "arr2[-1,:] = 0\n",
    "arr3 = arr2.flatten()\n",
    "print(arr3)"
   ]
  },
  {
   "cell_type": "code",
   "execution_count": 8,
   "id": "800b240c-140e-4aee-b61c-a4163b093035",
   "metadata": {},
   "outputs": [
    {
     "name": "stdout",
     "output_type": "stream",
     "text": [
      "Array: [[47 24 23 23 26]\n",
      " [28 18 27 11 48]\n",
      " [35 25 10 49 17]\n",
      " [30 17 18 37 23]\n",
      " [11 22 44 25 29]]\n",
      "Row wise mean: [30.2 21.2 24.4 29.  28.6]\n",
      "Column wise mean: [28.6 26.4 27.2 25.  26.2]\n",
      "Row wise sum: [151 106 122 145 143]\n",
      "Column wise sum: [143 132 136 125 131]\n",
      "Row minimum: [11 17 10 11 17]\n",
      "Column minimum: [23 11 10 17 11]\n",
      "Row maximum: [47 25 44 49 48]\n",
      "Column maximum: [47 48 49 37 44]\n"
     ]
    }
   ],
   "source": [
    "import numpy as np\n",
    "from random import *\n",
    "arr = np.array([[randint(10,50) for i in range (5)]for j in range (5)])\n",
    "print(\"Array:\",arr)\n",
    "print(\"Row wise mean:\",np.mean(arr,axis=0))\n",
    "print(\"Column wise mean:\",np.mean(arr,axis=1))\n",
    "print(\"Row wise sum:\",np.sum(arr,axis=0))\n",
    "print(\"Column wise sum:\",np.sum(arr,axis=1))\n",
    "print(\"Row minimum:\",np.min(arr,axis=0))\n",
    "print(\"Column minimum:\",np.min(arr,axis=1))\n",
    "print(\"Row maximum:\",np.max(arr,axis=0))\n",
    "print(\"Column maximum:\",np.max(arr,axis=1))\n"
   ]
  },
  {
   "cell_type": "code",
   "execution_count": 5,
   "id": "e49655ee-9781-4fc1-a355-37488703a7e9",
   "metadata": {},
   "outputs": [
    {
     "name": "stdout",
     "output_type": "stream",
     "text": [
      "[[5. 0. 0. 0.]\n",
      " [0. 5. 0. 0.]\n",
      " [0. 0. 5. 0.]\n",
      " [1. 1. 1. 1.]]\n"
     ]
    }
   ],
   "source": [
    "import numpy as np\n",
    "id_matrix = np.eye(4)\n",
    "id_matrix = 5*np.eye(4)\n",
    "id_matrix[-1:] = 1\n",
    "print(id_matrix)"
   ]
  },
  {
   "cell_type": "code",
   "execution_count": 30,
   "id": "84bd6f25-1366-41ac-8430-736220afc892",
   "metadata": {},
   "outputs": [
    {
     "name": "stdout",
     "output_type": "stream",
     "text": [
      "[19 16  0 20  0  5 13 18 14 12  2  2 14 17 11]\n",
      "[ 0  2  5 11 12 13 14 16 17 18 19 20]\n",
      "Count of unique elements : 12\n",
      "[ 0  1  3  6  7  8  9 12 13 14]\n"
     ]
    }
   ],
   "source": [
    "import numpy as np\n",
    "from random import *\n",
    "arr = np.array([randint(0,20) for i in range (15)])\n",
    "print(arr)\n",
    "unique = np.unique(arr)\n",
    "print(unique)\n",
    "print(\"Count of unique elements :\",len(unique))\n",
    "arr1 = np.where(arr>10)[0]\n",
    "print(arr1)"
   ]
  },
  {
   "cell_type": "code",
   "execution_count": 14,
   "id": "c21e2ae3-74ed-45ba-a0b1-ad8c22519972",
   "metadata": {},
   "outputs": [
    {
     "name": "stdout",
     "output_type": "stream",
     "text": [
      "[[0.81 0.51 0.5  0.66]\n",
      " [0.13 0.26 0.5  0.76]\n",
      " [0.59 0.86 0.5  0.13]]\n"
     ]
    }
   ],
   "source": [
    "import numpy as np\n",
    "from random import *\n",
    "arr = np.random.uniform(0,1,size=(3,4))\n",
    "arr = np.round(arr,2)\n",
    "arr[:,2] = 0.5\n",
    "print(arr)"
   ]
  },
  {
   "cell_type": "code",
   "execution_count": null,
   "id": "0e4f02d8-bf9c-4d8f-8e49-922566e15110",
   "metadata": {},
   "outputs": [],
   "source": []
  },
  {
   "cell_type": "code",
   "execution_count": null,
   "id": "a0c55372-bcf9-4e15-85e5-70d519a2072f",
   "metadata": {},
   "outputs": [],
   "source": []
  }
 ],
 "metadata": {
  "kernelspec": {
   "display_name": "Python 3 (ipykernel)",
   "language": "python",
   "name": "python3"
  },
  "language_info": {
   "codemirror_mode": {
    "name": "ipython",
    "version": 3
   },
   "file_extension": ".py",
   "mimetype": "text/x-python",
   "name": "python",
   "nbconvert_exporter": "python",
   "pygments_lexer": "ipython3",
   "version": "3.11.0"
  }
 },
 "nbformat": 4,
 "nbformat_minor": 5
}
