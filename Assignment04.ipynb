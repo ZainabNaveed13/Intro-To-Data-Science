{
 "cells": [
  {
   "cell_type": "code",
   "execution_count": 13,
   "id": "3a3aef11-3c50-4cc6-8a8f-8f43e4b6cc41",
   "metadata": {},
   "outputs": [
    {
     "name": "stdout",
     "output_type": "stream",
     "text": [
      "Sample Temperature Data (Celsius):\n",
      "[[ 6. 32. 35. -5. 24.]\n",
      " [32. 14.  5. 40.  3.]\n",
      " [ 9.  8. 36. 13. 15.]\n",
      " [-6. 13. -7.  0. 19.]\n",
      " [ 7. 39. 15. 19. 25.]]\n",
      "\n",
      "Sample Humidity Data (%):\n",
      "[[93.42  0.31 72.94 62.68 23.69]\n",
      " [83.65 12.14 66.37 20.5  96.97]\n",
      " [91.67 70.45 56.91 39.42 40.08]\n",
      " [24.11 97.31 70.79 27.74 68.82]\n",
      " [69.23 40.08 10.9  72.71 61.26]]\n"
     ]
    }
   ],
   "source": [
    "import numpy as np\n",
    "\n",
    "# Generate random temperature data in Celsius (-10 to 40 degrees) for 500 locations across 365 days\n",
    "temperature_data = np.random.uniform(-10, 40, (500, 365))\n",
    "temperature_data = np.round(temperature_data)  # Rounded to whole numbers\n",
    "\n",
    "# Generate random humidity data (0 to 100 percent) for 500 locations across 365 days\n",
    "humidity_data = np.random.uniform(0, 100, (500, 365))\n",
    "humidity_data = np.round(humidity_data, 2)  # Rounded to 2 decimal places\n",
    "\n",
    "print(\"Sample Temperature Data (Celsius):\")\n",
    "print(temperature_data[:5, :5])  # Display a small portion of the array for verification\n",
    "\n",
    "print(\"\\nSample Humidity Data (%):\")\n",
    "print(humidity_data[:5, :5])  # Display a small portion of the array for verification\n"
   ]
  },
  {
   "cell_type": "code",
   "execution_count": 14,
   "id": "5ccf0f70-07f8-4ec0-8eaf-6cc1cc3b8c0c",
   "metadata": {},
   "outputs": [
    {
     "name": "stdout",
     "output_type": "stream",
     "text": [
      "Total missing entries in temperature data: 12443\n",
      "Total missing entries in humidity data: 8923\n"
     ]
    }
   ],
   "source": [
    "# Simulate 5% missing data in temperature and humidity arrays\n",
    "num_missing = int(0.05 * temperature_data.size)\n",
    "\n",
    "# Generate random indices for missing data\n",
    "missing_indices = (np.random.randint(0, 500, num_missing), np.random.randint(0, 365, num_missing))\n",
    "\n",
    "# Set selected indices to -1 for both temperature and humidity data to represent missing values\n",
    "temperature_data[missing_indices] = -1\n",
    "humidity_data[missing_indices] = -1\n",
    "\n",
    "# Count the number of missing values in each array (count occurrences of -1)\n",
    "missing_temp_count = np.sum(temperature_data == -1)\n",
    "missing_humidity_count = np.sum(humidity_data == -1)\n",
    "\n",
    "print(f\"Total missing entries in temperature data: {missing_temp_count}\")\n",
    "print(f\"Total missing entries in humidity data: {missing_humidity_count}\")"
   ]
  },
  {
   "cell_type": "code",
   "execution_count": 15,
   "id": "d648dd18-696b-4515-8b5e-715a6b4aca4d",
   "metadata": {},
   "outputs": [
    {
     "name": "stdout",
     "output_type": "stream",
     "text": [
      "\n",
      "Capped Discomfort Index (with max value 80):\n",
      "[[41.17 22.87 80.   ... 80.   80.   53.67]\n",
      " [80.   53.19 37.92 ... 43.93 80.   55.3 ]\n",
      " [47.03 44.05 80.   ... 52.69 53.29 12.3 ]\n",
      " ...\n",
      " [79.03 80.   30.29 ... 61.91 30.85 78.51]\n",
      " [61.91 19.59 22.42 ... 24.08 73.71 35.19]\n",
      " [44.43 55.73 80.   ... 70.74 22.87 20.02]]\n"
     ]
    }
   ],
   "source": [
    "# Convert Celsius to Fahrenheit\n",
    "temperature_data_fahrenheit = temperature_data * 9 / 5 + 32\n",
    "\n",
    "# Calculate \"feels like\" discomfort index\n",
    "discomfort_index = 0.5 * (temperature_data_fahrenheit + 61.0 + \n",
    "                           ((temperature_data_fahrenheit - 68.0) * 1.2) + \n",
    "                           (humidity_data * 0.094))\n",
    "\n",
    "# Cap any values in discomfort index above 80\n",
    "discomfort_index = np.where(discomfort_index > 80, 80, discomfort_index)\n",
    "discomfort_index = np.round(discomfort_index, 2)\n",
    "\n",
    "print(\"\\nCapped Discomfort Index (with max value 80):\")\n",
    "print(discomfort_index)\n"
   ]
  },
  {
   "cell_type": "code",
   "execution_count": 16,
   "id": "7cafd5cc-e942-4c19-9fad-75635d5a3241",
   "metadata": {},
   "outputs": [
    {
     "name": "stdout",
     "output_type": "stream",
     "text": [
      "Average January Temperature across all locations: 15.23°C\n"
     ]
    }
   ],
   "source": [
    "# Extract January (first 31 days) temperature data\n",
    "january_temperatures = temperature_data[:, :31]\n",
    "\n",
    "# Calculate the average January temperature across all locations\n",
    "average_january_temp = np.mean(january_temperatures[january_temperatures != -1])  # Exclude -1 values\n",
    "print(f\"Average January Temperature across all locations: {average_january_temp:.2f}°C\")\n"
   ]
  },
  {
   "cell_type": "code",
   "execution_count": 18,
   "id": "d92fb190-72bd-47c6-8317-f07d5468b795",
   "metadata": {},
   "outputs": [
    {
     "name": "stdout",
     "output_type": "stream",
     "text": [
      "Null values per location after marking extreme temperatures:\n",
      "[50 50 63 56 60 59 63 42 68 51 54 54 56 45 52 59 55 61 59 53 48 57 53 47\n",
      " 49 52 51 54 51 53 41 66 57 66 60 56 55 51 61 66 68 48 65 49 69 52 50 50\n",
      " 43 55 62 60 62 60 51 48 49 61 58 54 47 71 49 53 50 55 59 58 57 67 65 52\n",
      " 48 54 47 60 45 56 48 54 65 56 50 54 60 61 64 65 55 50 46 63 52 53 49 68\n",
      " 76 51 58 62 54 43 61 57 65 50 57 63 66 51 54 54 47 52 64 71 55 52 60 63\n",
      " 40 61 65 70 48 62 54 48 63 58 63 52 60 56 57 59 60 48 47 55 56 57 50 54\n",
      " 63 47 39 60 52 44 53 52 52 53 62 58 61 59 61 63 60 60 61 53 65 39 60 50\n",
      " 52 64 58 55 59 59 58 52 69 56 58 49 54 55 54 54 54 50 66 45 61 57 54 57\n",
      " 52 64 61 54 54 66 68 64 59 51 68 54 60 62 53 57 71 53 49 54 61 73 49 54\n",
      " 49 43 54 52 54 60 63 70 62 51 57 54 50 59 51 60 58 61 54 62 56 58 61 48\n",
      " 64 60 52 47 56 57 55 58 60 46 57 63 60 64 59 63 70 52 54 63 58 54 50 58\n",
      " 56 46 45 52 44 54 49 54 68 57 57 67 54 68 55 53 56 60 44 40 56 47 37 64\n",
      " 64 59 53 57 58 58 52 57 48 55 55 44 48 52 72 55 60 54 54 61 55 71 58 56\n",
      " 62 44 58 65 46 63 60 58 61 67 53 57 54 64 57 58 65 61 54 62 44 58 58 57\n",
      " 50 59 59 58 55 43 49 67 60 62 57 56 58 48 50 48 54 37 48 66 64 55 54 46\n",
      " 51 54 56 48 53 46 56 58 62 75 58 51 57 44 47 49 55 65 65 60 47 55 48 61\n",
      " 59 59 63 53 54 65 72 63 53 64 50 63 64 61 51 52 38 78 51 54 51 69 51 62\n",
      " 59 60 50 63 51 63 58 64 54 45 41 59 50 51 40 50 57 48 54 72 56 52 62 55\n",
      " 47 59 56 58 63 49 63 73 55 54 45 50 59 54 66 43 64 50 61 60 58 56 47 53\n",
      " 49 53 62 55 59 60 57 55 53 48 55 52 45 53 67 48 59 55 46 63 49 71 57 64\n",
      " 63 56 62 53 44 60 50 54 37 51 46 62 48 74 61 65 59 56 51 48]\n"
     ]
    }
   ],
   "source": [
    "# Mark temperatures exceeding 35°C as potential errors by setting them to -1\n",
    "temperature_data = np.where(temperature_data > 35, -1, temperature_data)\n",
    "\n",
    "# Count the number of missing values per location\n",
    "null_values_per_location = np.sum(temperature_data == -1, axis=1)\n",
    "print(\"Null values per location after marking extreme temperatures:\")\n",
    "print(null_values_per_location)\n"
   ]
  },
  {
   "cell_type": "code",
   "execution_count": 25,
   "id": "3fecd677-f124-41c4-bad0-752598c7f91f",
   "metadata": {},
   "outputs": [
    {
     "name": "stdout",
     "output_type": "stream",
     "text": [
      "Quarterly average temperatures for each location:\n",
      "[[12.96103896 11.54545455 12.4691358  16.3125    ]\n",
      " [10.91025641 11.97368421 12.40789474 12.37647059]\n",
      " [10.94871795 13.03947368 12.31081081 12.18918919]\n",
      " ...\n",
      " [13.28571429 11.43055556 14.49333333 12.85882353]\n",
      " [11.22666667 12.95        8.78481013 15.5125    ]\n",
      " [10.77777778 12.83544304 14.0125     11.38961039]]\n"
     ]
    }
   ],
   "source": [
    "# Assuming temperature_data is available and is a 2D array (500, 365)\n",
    "\n",
    "# Define the number of days in each quarter (considering the last quarter takes the remaining days)\n",
    "days_in_quarter = [91, 91, 91, 92]  # Q1, Q2, Q3, Q4\n",
    "\n",
    "# Initialize an array to hold quarterly averages\n",
    "quarterly_avg_temp = np.zeros((500, 4))\n",
    "\n",
    "# Calculate averages for each quarter\n",
    "start_day = 0\n",
    "for i in range(4):\n",
    "    # Extract the quarter's data\n",
    "    quarter_data = temperature_data[:, start_day:start_day + days_in_quarter[i]]\n",
    "    \n",
    "    # Replace -1 with NaN for average calculation to ignore these values\n",
    "    quarter_data = np.where(quarter_data == -1, np.nan, quarter_data)\n",
    "    \n",
    "    # Calculate the average for this quarter, ignoring NaNs\n",
    "    quarterly_avg_temp[:, i] = np.nanmean(quarter_data, axis=1)\n",
    "    \n",
    "    # Update the starting day for the next quarter\n",
    "    start_day += days_in_quarter[i]\n",
    "\n",
    "print(\"Quarterly average temperatures for each location:\")\n",
    "print(quarterly_avg_temp)\n"
   ]
  },
  {
   "cell_type": "code",
   "execution_count": 23,
   "id": "ad5d1117-4a19-45b5-97e8-4ab530e17a77",
   "metadata": {},
   "outputs": [
    {
     "name": "stdout",
     "output_type": "stream",
     "text": [
      "Total number of Dry days for each location:\n",
      "[132 127 137 118 128 121 128 126 131 118 113 120 137 123 125 121 127 106\n",
      " 149 115 117 145 132 128 122 116 103 115 117 119 117 129 127 141 107 127\n",
      " 123 110 135 128 128 129 132 106 142 114 115 101 114 116 128 127 121 119\n",
      " 129 118 107 129 123 108 122 125 108 129 110 135 123 123 127 106 123 129\n",
      " 122 135 125 129 119 139 123 123 114 111 116 113 128 129 132 118 115 116\n",
      " 123 135 132 128 121 130 122 116 128 113 121 119 125 124 126 135 137 128\n",
      " 122 119 114 109 110 123 108 133  98 147 113 130 114 118 120 125 123 137\n",
      " 129 130 121 114 120 122 131 115 127 132 111 104 119 135 136 113 130 127\n",
      " 116 125 111 108 112 102 121 130 137 124 133 137 108 128 128 141 140 130\n",
      " 117 118 106 117 119 131 127 118 104 104 118 114 136 133 115 129 106 125\n",
      " 127 110 122 106 133 113 119 116 112 118 130 119 131 120 121 135 112 130\n",
      " 109 130 112 115 131 131 130 115 112 127 132 125 124 111 124 126 119 128\n",
      " 105 111 116 119 124 111 116 116 128 114 114 119 112 136 121 107 130 106\n",
      " 125 113 132 111 104 127 116 116 127 126 126 131 132 123 120 110 113 120\n",
      " 120 116 116 103 129 121 123 126 118 128 119 125 134 115 123 115 117 138\n",
      " 127 143 125 130 140 127 128 116 135 129 117 118 121 123 137 125 117 131\n",
      " 117 115 115 121 126 128 143 120 128 126 129 101 132 108 135 123 115 125\n",
      " 126 127 126 110 128 129 132 103 135 124 109 123 116 130 120 116 113 122\n",
      " 117 136 120 128 122 134 108 116 131 135 114 136 116 117 132 125 123 107\n",
      " 141 118 130 122 134 119 117 103 109 108 112 125 116 134 108 123 131 120\n",
      " 107 115 117 148 113 120 114 124 127 109 141 128 121 114 124 129 128 139\n",
      " 127 111 128 119 118 104 122 121 111 112 132 137 132 119 124 115 107 117\n",
      " 134 122 132 116 112 127 137 129 125 119 125 124 141 132 132 126 111 126\n",
      " 129 126 130 123 123 119 127 119 120 127 123 126 117 130 128 118 123 121\n",
      " 118 135 142 130 136 130 124 119 113 113 114 123 144 127 125 107 136 119\n",
      " 143 118 119 127 130 128 129 102 139 105 112 112 115 134 124 117 110 118\n",
      " 101 121 106 118 124 126 111 120 117 125 111 130 126 122 147 129 110 113\n",
      " 140 127 118 106 114 127 125 128 136 130 126 122 111 137]\n",
      "Total number of Humid days for each location:\n",
      "[107  97  99  97 105 113 107 118  96 108  99  91 111  92 105 108 106 112\n",
      "  80 109 110  88 101  89 102  96 113 107 101  97 108  94 103 103 108 109\n",
      " 105 115 100  87 102 104  94  99 105 113 117 114 110 115  93 101 116  92\n",
      " 112 104 114 107 113 110 113  95 112 106 111  93 102 105 101 130  98 102\n",
      " 104  88 107  88 102 100  99  86 101 111 108 100 101  99  94  98 124 103\n",
      " 103  95  91 120 108 104 104  95 102  97  98 104 102 104  94  90  90 116\n",
      "  88 102  88 107 118  99 107 105 110  79 126 100 113  98 101  99  98  90\n",
      " 102 103  97 109 112 104 106  97 119 100  96 113 104 104 105 102 112 115\n",
      " 107 109 104 125  99 103 105  89  97  98  96  97  99  99  89 104  98  92\n",
      " 100 119 129 109 112 107  90  98 123 101  99 114  84 100 105  90 114  99\n",
      "  93 108 102 117 102 107 105  95 116 116  98 100  97 106 105  95 105  91\n",
      " 100  99 123 107  96  96 108 120 105  90  97 110 110 111  98  95  90  97\n",
      "  98 105 102  94 103 107  90 103  91 108 103 110 104  87  83 114 118 113\n",
      "  85 107  97 121 122  92 114 110  89 112 104 112  99 109 108 117 111 106\n",
      " 101 110 104 126 102 114 104 109  98 100  88 101 105 122 113 102 118 104\n",
      " 101  90 105  98 108  99 104 128  94  91  99  90 108 104  91 100 114  89\n",
      " 108 106 120 112  99  90  81 104 108 106 104 111 107 119  91 100 100 105\n",
      " 105  93 116 121 101 113 104 111 108  88 113 100 127  98  96  88 108  99\n",
      " 116 109 108 102 111  96 123 115 102  99  97  94 117 110  92 112  99  94\n",
      "  97 118  93 112  96  93 120 119  98 118 109  95  91 106 116 108  91  95\n",
      " 119 103  96  92 126  89 104  92  86 106 107  96 106  98  96 104 101  92\n",
      "  99  99  79  96 116 110 104 103 115 120 100  99 103 105  98  98  91 116\n",
      "  90  93  95 109 104  90  93 101 104 103  91 110  95 104 105 107 110  97\n",
      " 119 102  91 110  99 101 100 111 111  89  89 103 101 108  99 113 103 108\n",
      " 115  91  96  97  99 107 100 119 107 112 123 106  85 112  98 115  92 103\n",
      "  99 104 101 101  97  92  84 104  98 106  88 113 104  92  99 119 111  97\n",
      " 114 113 126 102  91  98 114 105 115  91 110 106 106  92 101 101 115 106\n",
      " 103  98 104 121  98 114  97 105 111 100  91 111 111  90]\n"
     ]
    }
   ],
   "source": [
    "# Classify humidity levels as \"Dry\" if below 30% and \"Humid\" if above 70%\n",
    "humidity_classification = np.where(humidity_data < 30, 'Dry',\n",
    "                                    np.where(humidity_data > 70, 'Humid', 'Moderate'))\n",
    "\n",
    "# Count the total number of \"Dry\" and \"Humid\" days for each location\n",
    "dry_days_count = np.sum(humidity_classification == 'Dry', axis=1)\n",
    "humid_days_count = np.sum(humidity_classification == 'Humid', axis=1)\n",
    "\n",
    "print(\"Total number of Dry days for each location:\")\n",
    "print(dry_days_count)\n",
    "print(\"Total number of Humid days for each location:\")\n",
    "print(humid_days_count)"
   ]
  },
  {
   "cell_type": "code",
   "execution_count": 24,
   "id": "5abe76ae-b9f3-40e4-8235-1642a077c824",
   "metadata": {},
   "outputs": [
    {
     "name": "stdout",
     "output_type": "stream",
     "text": [
      "Adjusted temperature data after applying daily pressure trend:\n",
      "[[ 9.87538449 -0.25050624 33.06030183 -6.42025487 22.70119371]\n",
      " [35.87538449 14.74949376  3.06030183 -2.42025487  1.70119371]\n",
      " [12.87538449  8.74949376 -2.93969817 11.57974513 13.70119371]\n",
      " [-2.12461551 13.74949376 -8.93969817 -1.42025487 17.70119371]\n",
      " [ 2.87538449 -0.25050624 13.06030183 17.57974513 23.70119371]]\n"
     ]
    }
   ],
   "source": [
    "# Simulate daily pressure trends (this is just an example; modify as needed)\n",
    "pressure_trend = np.random.uniform(-5, 5, (365))  # Random trend for demonstration\n",
    "\n",
    "# Apply daily pressure trend to temperature data\n",
    "adjusted_temperature_data = temperature_data + pressure_trend\n",
    "\n",
    "# Display a small portion of the adjusted temperature data for verification\n",
    "print(\"Adjusted temperature data after applying daily pressure trend:\")\n",
    "print(adjusted_temperature_data[:5, :5])"
   ]
  },
  {
   "cell_type": "code",
   "execution_count": null,
   "id": "82400a5b-de0c-4681-928c-55c450ff34e9",
   "metadata": {},
   "outputs": [],
   "source": []
  }
 ],
 "metadata": {
  "kernelspec": {
   "display_name": "Python 3 (ipykernel)",
   "language": "python",
   "name": "python3"
  },
  "language_info": {
   "codemirror_mode": {
    "name": "ipython",
    "version": 3
   },
   "file_extension": ".py",
   "mimetype": "text/x-python",
   "name": "python",
   "nbconvert_exporter": "python",
   "pygments_lexer": "ipython3",
   "version": "3.11.0"
  }
 },
 "nbformat": 4,
 "nbformat_minor": 5
}
